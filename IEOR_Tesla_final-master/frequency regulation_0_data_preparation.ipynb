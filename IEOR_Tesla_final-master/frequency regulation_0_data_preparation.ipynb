{
 "cells": [
  {
   "cell_type": "code",
   "execution_count": 577,
   "metadata": {},
   "outputs": [],
   "source": [
    "import pandas as pd\n",
    "import matplotlib.pyplot as plt\n",
    "import datetime\n",
    "import numpy as np\n",
    "import math\n",
    "from datetime import datetime, timedelta\n",
    "import statistics \n",
    "from statistics import median"
   ]
  },
  {
   "cell_type": "code",
   "execution_count": 578,
   "metadata": {},
   "outputs": [],
   "source": [
    "fre1 = pd.read_csv(\"frequency_20180101_20180301.csv\")\n",
    "fre2 = pd.read_csv(\"frequency_20180301_20180701.csv\")\n",
    "fre3 = pd.read_csv(\"frequency_20180701_20180711.csv\")\n",
    "fre = pd.concat([fre1,fre2,fre3])\n",
    "fre.index = range(len(fre))\n",
    "win = pd.read_csv(\"wind_generation.csv\")\n",
    "thr = pd.read_csv(\"throughput_ratio.csv\")"
   ]
  },
  {
   "cell_type": "code",
   "execution_count": 579,
   "metadata": {},
   "outputs": [],
   "source": [
    "#set the row number of data that you want to process considering your running time\n",
    "#Good Luck!\n",
    "#There are two dataframes, df_raise for Raise Throughput Ratio and df_lower for Lower Throughput Ratio\n",
    "n=1000;"
   ]
  },
  {
   "cell_type": "code",
   "execution_count": 580,
   "metadata": {},
   "outputs": [],
   "source": [
    "df=win\n",
    "df[\"Frequency (Hz)\"] = np.nan\n",
    "df[\"Raise Throughput Ratio\"] = np.nan\n",
    "df[\"Lower Throughput Ratio\"] = np.nan\n",
    "df[\"Median Frequency (Hz)\"] = np.nan"
   ]
  },
  {
   "cell_type": "code",
   "execution_count": 581,
   "metadata": {},
   "outputs": [],
   "source": [
    "thr_time=thr['Interval Ending (AEST)'].tolist()\n",
    "fre_time=[round(t/1000) for t in fre['Timestamp (GMT)'].tolist()]"
   ]
  },
  {
   "cell_type": "code",
   "execution_count": 582,
   "metadata": {},
   "outputs": [],
   "source": [
    "avg_time=[]\n",
    "avg_fre=[]\n",
    "med_fre=[]\n",
    "tem_fre=[]\n",
    "avg=0\n",
    "num=0\n",
    "##for i in range(len(fre_time)):\n",
    "for i in range(60000,70000+300*n):\n",
    "    tem_fre.append(float(fre.loc[i,[\"Frequency (Hz)\"]]))\n",
    "    if fre_time[i]%300==0:\n",
    "        avg_fre.append(sum(tem_fre)/len(tem_fre))\n",
    "        med_fre.append(median(tem_fre))\n",
    "        avg_time.append(fre_time[i])\n",
    "        tem_fre=[]"
   ]
  },
  {
   "cell_type": "code",
   "execution_count": 583,
   "metadata": {},
   "outputs": [
    {
     "name": "stdout",
     "output_type": "stream",
     "text": [
      "start time is 1/1/18 0:05 \n",
      "start timestamp is 1514729100.0 \n",
      "stat index in frequency is 65100\n"
     ]
    }
   ],
   "source": [
    "print('start time is',df[\"Interval Ending (AEST)\"][0],  \\\n",
    "      '\\nstart timestamp is',(datetime.strptime('1/1/18 0:05', '%m/%d/%y %H:%M')-timedelta(hours=18)).timestamp(),\\\n",
    "      '\\nstat index in frequency is',fre_time.index(1514793900.0))"
   ]
  },
  {
   "cell_type": "code",
   "execution_count": 584,
   "metadata": {},
   "outputs": [],
   "source": [
    "for i in range(n):\n",
    "    df_tstamp=((datetime.strptime(df[\"Interval Ending (AEST)\"][i], '%m/%d/%y %H:%M')- timedelta(hours=18)).timestamp())\n",
    "    if df_tstamp in avg_time:\n",
    "        index=avg_time.index(df_tstamp)\n",
    "        df.loc[i,[\"Frequency (Hz)\"]]=avg_fre[index]\n",
    "        df.loc[i,[\"Median Frequency (Hz)\"]]=med_fre[index]\n",
    "    if df[\"Interval Ending (AEST)\"][i] in thr_time:\n",
    "        index=thr_time.index(df[\"Interval Ending (AEST)\"][i])\n",
    "        df.loc[i,[\"Raise Throughput Ratio\"]]=thr.loc[index,[\"Raise Throughput Ratio\"]]\n",
    "        df.loc[i,[\"Lower Throughput Ratio\"]]=thr.loc[index,[\"Lower Throughput Ratio\"]]"
   ]
  },
  {
   "cell_type": "code",
   "execution_count": 585,
   "metadata": {},
   "outputs": [],
   "source": [
    "df_lower=df.iloc[0:n,:].drop(['Raise Throughput Ratio'], axis=1)\n",
    "df_lower.head()\n",
    "s=pd.isna(df_lower['Lower Throughput Ratio'])\n",
    "for i in range(len(s)):\n",
    "    if s[i]:\n",
    "        df_lower=df_lower.drop(i)"
   ]
  },
  {
   "cell_type": "code",
   "execution_count": 586,
   "metadata": {},
   "outputs": [],
   "source": [
    "df_raise=df.iloc[0:n,:].drop(['Lower Throughput Ratio'], axis=1)\n",
    "df_raise.head()\n",
    "s=pd.isna(df_raise['Raise Throughput Ratio'])\n",
    "for i in range(len(s)):\n",
    "    if s[i]:\n",
    "        df_raise=df_raise.drop(i)"
   ]
  },
  {
   "cell_type": "code",
   "execution_count": 587,
   "metadata": {},
   "outputs": [
    {
     "data": {
      "text/plain": [
       "49.997579301982874"
      ]
     },
     "execution_count": 587,
     "metadata": {},
     "output_type": "execute_result"
    }
   ],
   "source": [
    "df_raise['Frequency (Hz)'].mean()"
   ]
  },
  {
   "cell_type": "code",
   "execution_count": 588,
   "metadata": {},
   "outputs": [
    {
     "data": {
      "text/plain": [
       "50.017552012043076"
      ]
     },
     "execution_count": 588,
     "metadata": {},
     "output_type": "execute_result"
    }
   ],
   "source": [
    "df_lower['Frequency (Hz)'].mean()"
   ]
  },
  {
   "cell_type": "code",
   "execution_count": 589,
   "metadata": {},
   "outputs": [],
   "source": [
    "df_lower.to_csv('df_lower.csv')"
   ]
  },
  {
   "cell_type": "code",
   "execution_count": 590,
   "metadata": {},
   "outputs": [],
   "source": [
    "df_raise.to_csv('df_raise.csv')"
   ]
  }
 ],
 "metadata": {
  "kernelspec": {
   "display_name": "Python 3",
   "language": "python",
   "name": "python3"
  },
  "language_info": {
   "codemirror_mode": {
    "name": "ipython",
    "version": 3
   },
   "file_extension": ".py",
   "mimetype": "text/x-python",
   "name": "python",
   "nbconvert_exporter": "python",
   "pygments_lexer": "ipython3",
   "version": "3.6.7"
  }
 },
 "nbformat": 4,
 "nbformat_minor": 2
}
